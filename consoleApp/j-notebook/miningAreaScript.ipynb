{
 "cells": [
  {
   "cell_type": "code",
   "execution_count": 176,
   "id": "8f6d3fca",
   "metadata": {},
   "outputs": [],
   "source": [
    "import geopandas as gpd\n",
    "import matplotlib.pyplot as plt\n",
    "from sqlalchemy import create_engine\n",
    "from shapely.geometry import Polygon, mapping\n",
    "import shapely\n",
    "from shapely.ops import polygonize\n"
   ]
  },
  {
   "cell_type": "code",
   "execution_count": 177,
   "id": "9381e6b7",
   "metadata": {},
   "outputs": [],
   "source": [
    "user = \"postgres\"\n",
    "password = \"Ww4756\"\n",
    "host = \"localhost\"\n",
    "port = 5432\n",
    "database = \"casestudy\"\n",
    "conn = f\"postgresql://{user}:{password}@{host}:{port}/{database}\"\n",
    "engine = create_engine(conn)\n"
   ]
  },
  {
   "cell_type": "code",
   "execution_count": 178,
   "id": "c2aa0232",
   "metadata": {},
   "outputs": [],
   "source": [
    "miningArea = gpd.read_file('../caseData/maden_sinir/maden_sinirlari.dxf')"
   ]
  },
  {
   "cell_type": "code",
   "execution_count": 179,
   "id": "650d0441",
   "metadata": {},
   "outputs": [
    {
     "data": {
      "text/html": [
       "<div>\n",
       "<style scoped>\n",
       "    .dataframe tbody tr th:only-of-type {\n",
       "        vertical-align: middle;\n",
       "    }\n",
       "\n",
       "    .dataframe tbody tr th {\n",
       "        vertical-align: top;\n",
       "    }\n",
       "\n",
       "    .dataframe thead th {\n",
       "        text-align: right;\n",
       "    }\n",
       "</style>\n",
       "<table border=\"1\" class=\"dataframe\">\n",
       "  <thead>\n",
       "    <tr style=\"text-align: right;\">\n",
       "      <th></th>\n",
       "      <th>Layer</th>\n",
       "      <th>PaperSpace</th>\n",
       "      <th>SubClasses</th>\n",
       "      <th>Linetype</th>\n",
       "      <th>EntityHandle</th>\n",
       "      <th>Text</th>\n",
       "      <th>geometry</th>\n",
       "    </tr>\n",
       "  </thead>\n",
       "  <tbody>\n",
       "    <tr>\n",
       "      <th>0</th>\n",
       "      <td>0</td>\n",
       "      <td>NaN</td>\n",
       "      <td>AcDbEntity:AcDbLine</td>\n",
       "      <td>NaN</td>\n",
       "      <td>6E</td>\n",
       "      <td>NaN</td>\n",
       "      <td>LINESTRING Z (465000.000 4399000.000 0.000, 46...</td>\n",
       "    </tr>\n",
       "    <tr>\n",
       "      <th>1</th>\n",
       "      <td>0</td>\n",
       "      <td>NaN</td>\n",
       "      <td>AcDbEntity:AcDbLine</td>\n",
       "      <td>NaN</td>\n",
       "      <td>6F</td>\n",
       "      <td>NaN</td>\n",
       "      <td>LINESTRING Z (463350.000 4399000.000 0.000, 46...</td>\n",
       "    </tr>\n",
       "    <tr>\n",
       "      <th>2</th>\n",
       "      <td>0</td>\n",
       "      <td>NaN</td>\n",
       "      <td>AcDbEntity:AcDbLine</td>\n",
       "      <td>NaN</td>\n",
       "      <td>70</td>\n",
       "      <td>NaN</td>\n",
       "      <td>LINESTRING Z (463350.000 4398083.000 0.000, 46...</td>\n",
       "    </tr>\n",
       "    <tr>\n",
       "      <th>3</th>\n",
       "      <td>0</td>\n",
       "      <td>NaN</td>\n",
       "      <td>AcDbEntity:AcDbLine</td>\n",
       "      <td>NaN</td>\n",
       "      <td>71</td>\n",
       "      <td>NaN</td>\n",
       "      <td>LINESTRING Z (498421.000 4411340.000 0.000, 49...</td>\n",
       "    </tr>\n",
       "    <tr>\n",
       "      <th>4</th>\n",
       "      <td>0</td>\n",
       "      <td>NaN</td>\n",
       "      <td>AcDbEntity:AcDbLine</td>\n",
       "      <td>NaN</td>\n",
       "      <td>72</td>\n",
       "      <td>NaN</td>\n",
       "      <td>LINESTRING Z (498589.000 4411617.000 0.000, 49...</td>\n",
       "    </tr>\n",
       "  </tbody>\n",
       "</table>\n",
       "</div>"
      ],
      "text/plain": [
       "  Layer  PaperSpace           SubClasses  Linetype EntityHandle  Text  \\\n",
       "0     0         NaN  AcDbEntity:AcDbLine       NaN           6E   NaN   \n",
       "1     0         NaN  AcDbEntity:AcDbLine       NaN           6F   NaN   \n",
       "2     0         NaN  AcDbEntity:AcDbLine       NaN           70   NaN   \n",
       "3     0         NaN  AcDbEntity:AcDbLine       NaN           71   NaN   \n",
       "4     0         NaN  AcDbEntity:AcDbLine       NaN           72   NaN   \n",
       "\n",
       "                                            geometry  \n",
       "0  LINESTRING Z (465000.000 4399000.000 0.000, 46...  \n",
       "1  LINESTRING Z (463350.000 4399000.000 0.000, 46...  \n",
       "2  LINESTRING Z (463350.000 4398083.000 0.000, 46...  \n",
       "3  LINESTRING Z (498421.000 4411340.000 0.000, 49...  \n",
       "4  LINESTRING Z (498589.000 4411617.000 0.000, 49...  "
      ]
     },
     "execution_count": 179,
     "metadata": {},
     "output_type": "execute_result"
    }
   ],
   "source": [
    "miningArea.head()"
   ]
  },
  {
   "cell_type": "code",
   "execution_count": 180,
   "id": "2adc5eec",
   "metadata": {
    "scrolled": true
   },
   "outputs": [
    {
     "data": {
      "text/html": [
       "<div>\n",
       "<style scoped>\n",
       "    .dataframe tbody tr th:only-of-type {\n",
       "        vertical-align: middle;\n",
       "    }\n",
       "\n",
       "    .dataframe tbody tr th {\n",
       "        vertical-align: top;\n",
       "    }\n",
       "\n",
       "    .dataframe thead th {\n",
       "        text-align: right;\n",
       "    }\n",
       "</style>\n",
       "<table border=\"1\" class=\"dataframe\">\n",
       "  <thead>\n",
       "    <tr style=\"text-align: right;\">\n",
       "      <th></th>\n",
       "      <th>id</th>\n",
       "      <th>geometry</th>\n",
       "    </tr>\n",
       "  </thead>\n",
       "  <tbody>\n",
       "    <tr>\n",
       "      <th>0</th>\n",
       "      <td>1</td>\n",
       "      <td>LINESTRING Z (465000.000 4399000.000 0.000, 46...</td>\n",
       "    </tr>\n",
       "    <tr>\n",
       "      <th>1</th>\n",
       "      <td>2</td>\n",
       "      <td>LINESTRING Z (463350.000 4399000.000 0.000, 46...</td>\n",
       "    </tr>\n",
       "    <tr>\n",
       "      <th>2</th>\n",
       "      <td>3</td>\n",
       "      <td>LINESTRING Z (463350.000 4398083.000 0.000, 46...</td>\n",
       "    </tr>\n",
       "    <tr>\n",
       "      <th>3</th>\n",
       "      <td>4</td>\n",
       "      <td>LINESTRING Z (498421.000 4411340.000 0.000, 49...</td>\n",
       "    </tr>\n",
       "    <tr>\n",
       "      <th>4</th>\n",
       "      <td>5</td>\n",
       "      <td>LINESTRING Z (498589.000 4411617.000 0.000, 49...</td>\n",
       "    </tr>\n",
       "  </tbody>\n",
       "</table>\n",
       "</div>"
      ],
      "text/plain": [
       "   id                                           geometry\n",
       "0   1  LINESTRING Z (465000.000 4399000.000 0.000, 46...\n",
       "1   2  LINESTRING Z (463350.000 4399000.000 0.000, 46...\n",
       "2   3  LINESTRING Z (463350.000 4398083.000 0.000, 46...\n",
       "3   4  LINESTRING Z (498421.000 4411340.000 0.000, 49...\n",
       "4   5  LINESTRING Z (498589.000 4411617.000 0.000, 49..."
      ]
     },
     "execution_count": 180,
     "metadata": {},
     "output_type": "execute_result"
    }
   ],
   "source": [
    "miningArea.loc[:,'id']= range(1,len(miningArea) + 1)\n",
    "miningAreaV2= miningArea[['id','geometry']]\n",
    "miningAreaV2.head()"
   ]
  },
  {
   "cell_type": "code",
   "execution_count": 187,
   "id": "f3857878",
   "metadata": {
    "scrolled": true
   },
   "outputs": [],
   "source": [
    "line_2d = shapely.force_2d(miningAreaV2.geometry)\n"
   ]
  },
  {
   "cell_type": "code",
   "execution_count": 182,
   "id": "aa9254dd",
   "metadata": {},
   "outputs": [
    {
     "name": "stderr",
     "output_type": "stream",
     "text": [
      "/Users/eyuptunahanunal/anaconda3/lib/python3.11/site-packages/pyproj/crs/crs.py:141: FutureWarning: '+init=<authority>:<code>' syntax is deprecated. '<authority>:<code>' is the preferred initialization method. When making the change, be mindful of axis order changes: https://pyproj4.github.io/pyproj/stable/gotchas.html#axis-order-changes-in-proj-6\n",
      "  in_crs_string = _prepare_from_proj_string(in_crs_string)\n"
     ]
    }
   ],
   "source": [
    "polygons = gpd.GeoSeries(polygonize(line_2d.geometry))\n",
    "polygons.crs = {'init':'epsg:23036'}\n",
    "#polygons.crs= (\"init\"==\"epsg:23036\")\n"
   ]
  },
  {
   "cell_type": "code",
   "execution_count": 195,
   "id": "42edff9e",
   "metadata": {},
   "outputs": [
    {
     "data": {
      "text/plain": [
       "0     POLYGON ((463350.000 4399000.000, 465000.000 4...\n",
       "1     POLYGON ((476000.000 4437000.000, 477000.000 4...\n",
       "2     POLYGON ((506000.000 4414770.000, 506270.000 4...\n",
       "3     POLYGON ((445161.000 4402868.002, 445349.000 4...\n",
       "4     POLYGON ((407237.000 4394445.002, 407249.000 4...\n",
       "5     POLYGON ((531511.000 4420667.002, 531556.000 4...\n",
       "6     POLYGON ((520491.000 4461547.002, 520501.000 4...\n",
       "7     POLYGON ((445453.000 4460792.002, 445445.000 4...\n",
       "8     POLYGON ((437969.496 4427293.194, 437969.496 4...\n",
       "9     POLYGON ((441026.455 4424291.816, 440859.711 4...\n",
       "10    POLYGON ((510961.000 4456934.002, 510977.000 4...\n",
       "11    POLYGON ((515498.000 4453516.002, 515528.000 4...\n",
       "12    POLYGON ((445572.000 4403100.002, 445911.000 4...\n",
       "13    POLYGON ((529408.000 4424469.002, 529265.000 4...\n",
       "14    POLYGON ((468778.000 4443430.002, 468796.000 4...\n",
       "15    POLYGON ((506000.000 4415255.000, 506500.000 4...\n",
       "16    POLYGON ((383985.000 4443155.002, 384065.000 4...\n",
       "17    POLYGON ((410943.000 4394711.002, 410908.000 4...\n",
       "18    POLYGON ((478578.000 4451992.002, 478600.000 4...\n",
       "19    POLYGON ((427726.483 4425229.171, 428174.884 4...\n",
       "20    POLYGON ((431425.790 4421081.464, 431257.640 4...\n",
       "21    POLYGON ((463450.000 4398800.000, 463850.000 4...\n",
       "22    POLYGON ((468479.000 4442997.002, 468605.000 4...\n",
       "23    POLYGON ((419132.000 4440355.002, 419106.000 4...\n",
       "24    POLYGON ((407917.000 4394323.002, 407681.000 4...\n",
       "25    POLYGON ((468796.000 4443541.002, 468828.000 4...\n",
       "26    POLYGON ((454000.000 4412400.002, 454374.000 4...\n",
       "27    POLYGON ((548177.000 4450895.002, 548115.000 4...\n",
       "28    POLYGON ((462072.000 4467402.002, 462059.000 4...\n",
       "dtype: geometry"
      ]
     },
     "execution_count": 195,
     "metadata": {},
     "output_type": "execute_result"
    }
   ],
   "source": [
    "##polygons.geometry.to_file('../caseData/test/dataframe.shp')  \n",
    "polygons##polygons.to_postgis(name=\"miningArea\", con=engine, schema=\"public\")"
   ]
  },
  {
   "cell_type": "code",
   "execution_count": 197,
   "id": "46928859",
   "metadata": {},
   "outputs": [],
   "source": [
    "for i, geom in enumerate(polygons):\n",
    "    miningAreaV2.at[i, 'geometry'] = geom\n"
   ]
  },
  {
   "cell_type": "code",
   "execution_count": 199,
   "id": "97cac584",
   "metadata": {},
   "outputs": [],
   "source": [
    "filter_gdf=miningAreaV2[miningAreaV2['geometry'].notnull()]"
   ]
  },
  {
   "cell_type": "code",
   "execution_count": 202,
   "id": "7a43b3a5",
   "metadata": {},
   "outputs": [],
   "source": [
    "\n",
    "filter_gdf.to_postgis(name=\"miningarea\", con=engine, schema=\"public\")"
   ]
  },
  {
   "cell_type": "code",
   "execution_count": null,
   "id": "dfdd5d07",
   "metadata": {},
   "outputs": [],
   "source": []
  }
 ],
 "metadata": {
  "kernelspec": {
   "display_name": "Python 3 (ipykernel)",
   "language": "python",
   "name": "python3"
  },
  "language_info": {
   "codemirror_mode": {
    "name": "ipython",
    "version": 3
   },
   "file_extension": ".py",
   "mimetype": "text/x-python",
   "name": "python",
   "nbconvert_exporter": "python",
   "pygments_lexer": "ipython3",
   "version": "3.11.4"
  }
 },
 "nbformat": 4,
 "nbformat_minor": 5
}
