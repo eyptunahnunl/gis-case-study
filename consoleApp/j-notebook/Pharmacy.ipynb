{
 "cells": [
  {
   "cell_type": "code",
   "execution_count": 49,
   "id": "03418438",
   "metadata": {},
   "outputs": [],
   "source": [
    "import geopandas as gpd\n",
    "import matplotlib.pyplot as plt\n",
    "from sqlalchemy import create_engine\n",
    "import http.client\n",
    "import requests\n",
    "from urllib.request import urlopen\n",
    "import json\n",
    "import pandas as pd\n"
   ]
  },
  {
   "cell_type": "code",
   "execution_count": 2,
   "id": "83e7f470",
   "metadata": {},
   "outputs": [],
   "source": [
    "user = \"postgres\"\n",
    "password = \"Ww4756\"\n",
    "host = \"localhost\"\n",
    "port = 5432\n",
    "database = \"casestudy\"\n",
    "conn = f\"postgresql://{user}:{password}@{host}:{port}/{database}\"\n",
    "engine = create_engine(conn)"
   ]
  },
  {
   "cell_type": "code",
   "execution_count": 39,
   "id": "66bfe8bd",
   "metadata": {},
   "outputs": [],
   "source": [
    "conn = http.client.HTTPSConnection(\"api.collectapi.com\")\n",
    "\n",
    "headers = {\n",
    "    'content-type': \"application/json\",\n",
    "    'authorization': \"apikey 2MCBVYZ5Dy8s4XFXw6CYXN:37926RomyR3skJsPe7Kr7D\"\n",
    "    }\n",
    "\n",
    "conn.request(\"GET\", \"/health/dutyPharmacy?ilce=%C3%87ankaya&il=Ankara\", headers=headers)\n",
    "\n",
    "res = conn.getresponse()\n",
    "data = res.read()"
   ]
  },
  {
   "cell_type": "code",
   "execution_count": 40,
   "id": "2d818319",
   "metadata": {},
   "outputs": [],
   "source": [
    "my_json = data.decode('utf8').replace(\"'\", '\"')\n",
    "data2= json.loads(my_json)\n",
    "s = json.dumps(data2, indent=4, sort_keys=True)\n"
   ]
  },
  {
   "cell_type": "code",
   "execution_count": 77,
   "id": "c711326d",
   "metadata": {},
   "outputs": [],
   "source": [
    "df=pd.DataFrame.from_dict(data2[\"result\"])"
   ]
  },
  {
   "cell_type": "code",
   "execution_count": 78,
   "id": "fc8fa068",
   "metadata": {},
   "outputs": [],
   "source": [
    "df[['lat', 'lng']] = df['loc'].str.split(',', expand=True)\n",
    "df.drop(columns=['loc'], inplace=True)\n"
   ]
  },
  {
   "cell_type": "code",
   "execution_count": 79,
   "id": "7ad7b309",
   "metadata": {},
   "outputs": [
    {
     "name": "stderr",
     "output_type": "stream",
     "text": [
      "/Users/eyuptunahanunal/anaconda3/lib/python3.11/site-packages/pyproj/crs/crs.py:141: FutureWarning: '+init=<authority>:<code>' syntax is deprecated. '<authority>:<code>' is the preferred initialization method. When making the change, be mindful of axis order changes: https://pyproj4.github.io/pyproj/stable/gotchas.html#axis-order-changes-in-proj-6\n",
      "  in_crs_string = _prepare_from_proj_string(in_crs_string)\n"
     ]
    }
   ],
   "source": [
    "pharmacy= gpd.GeoDataFrame(df, geometry= gpd.points_from_xy(df.lng, df.lat))\n",
    "pharmacy=pharmacy.drop(columns=['lng','lat'])\n",
    "pharmacy.geometry.crs = {'init':'epsg:4326'}\n"
   ]
  },
  {
   "cell_type": "code",
   "execution_count": 80,
   "id": "6324c2f5",
   "metadata": {},
   "outputs": [],
   "source": [
    "pharmacy.to_postgis(name=\"pharmacy_on_duty\", con=engine, schema=\"public\")"
   ]
  },
  {
   "cell_type": "code",
   "execution_count": null,
   "id": "309c6a11",
   "metadata": {},
   "outputs": [],
   "source": []
  }
 ],
 "metadata": {
  "kernelspec": {
   "display_name": "Python 3 (ipykernel)",
   "language": "python",
   "name": "python3"
  },
  "language_info": {
   "codemirror_mode": {
    "name": "ipython",
    "version": 3
   },
   "file_extension": ".py",
   "mimetype": "text/x-python",
   "name": "python",
   "nbconvert_exporter": "python",
   "pygments_lexer": "ipython3",
   "version": "3.11.4"
  }
 },
 "nbformat": 4,
 "nbformat_minor": 5
}
